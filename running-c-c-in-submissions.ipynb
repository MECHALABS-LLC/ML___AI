{
 "cells": [
  {
   "cell_type": "markdown",
   "id": "50b0aba6",
   "metadata": {
    "papermill": {
     "duration": 0.003764,
     "end_time": "2024-12-06T11:29:33.133982",
     "exception": false,
     "start_time": "2024-12-06T11:29:33.130218",
     "status": "completed"
    },
    "tags": []
   },
   "source": [
    "This notebook is inspired by these discussions, credits for the authors and comments for valuable insights and experiments:\n",
    "\n",
    "https://www.kaggle.com/competitions/fide-google-efficiency-chess-ai-challenge/discussion/547025\n",
    "\n",
    "https://www.kaggle.com/competitions/fide-google-efficiency-chess-ai-challenge/discussion/547244\n",
    "\n",
    "You can find more info about the environment and image used for the submissions in the latter."
   ]
  },
  {
   "cell_type": "markdown",
   "id": "e3b4ea05",
   "metadata": {
    "papermill": {
     "duration": 0.002536,
     "end_time": "2024-12-06T11:29:33.139630",
     "exception": false,
     "start_time": "2024-12-06T11:29:33.137094",
     "status": "completed"
    },
    "tags": []
   },
   "source": [
    "I tried around 50 different ways total of running C/C++ code in a submission. 😱 The issues included:\n",
    "- not getting output/able to pass input while invoking a shell command through python\n",
    "- different tools being able to run subprocesses in different ways, hardly anything working exactly as intended\n",
    "- getting dummy (e.g. echo) commands fine, but getting submission agent timeout after trying anything else (like compiling code remotely with gcc)\n",
    "- hitting the submission size limit trying to upload even the smallest executable produced by gcc pn my local PC\n",
    "- failing to run an executable due to platform differences\n",
    "- .zip archives being submitted ok, but working strangely despite the submission mprompt allowing ZIPs\n",
    "\n",
    "So, to save You the struggle:\n",
    "\n",
    "## FINALLY, one complete working solution:\n",
    "\n",
    "...that I found for C code (C++ should work too)."
   ]
  },
  {
   "cell_type": "markdown",
   "id": "6a66ee20",
   "metadata": {
    "papermill": {
     "duration": 0.002391,
     "end_time": "2024-12-06T11:29:33.144777",
     "exception": false,
     "start_time": "2024-12-06T11:29:33.142386",
     "status": "completed"
    },
    "tags": []
   },
   "source": [
    "1. compile C source on a machine with the same os/architecture that runs in the submission engine, the most handy way is to locally run a Docker container with the base python image: `docker pull gcr.io/kaggle-images/python` HOWEVER it can also be done in a notebook:"
   ]
  },
  {
   "cell_type": "code",
   "execution_count": 1,
   "id": "c6c1dade",
   "metadata": {
    "execution": {
     "iopub.execute_input": "2024-12-06T11:29:33.151924Z",
     "iopub.status.busy": "2024-12-06T11:29:33.151474Z",
     "iopub.status.idle": "2024-12-06T11:29:33.163870Z",
     "shell.execute_reply": "2024-12-06T11:29:33.162699Z"
    },
    "papermill": {
     "duration": 0.018794,
     "end_time": "2024-12-06T11:29:33.166301",
     "exception": false,
     "start_time": "2024-12-06T11:29:33.147507",
     "status": "completed"
    },
    "tags": []
   },
   "outputs": [
    {
     "name": "stdout",
     "output_type": "stream",
     "text": [
      "Writing main.c\n"
     ]
    }
   ],
   "source": [
    "%%writefile main.c\n",
    "#include <stdio.h>\n",
    "int main()\n",
    "{\n",
    "    int a, b, c;\n",
    "    scanf(\"%d\", &a);\n",
    "    scanf(\"%d\", &b);\n",
    "    scanf(\"%d\", &c);\n",
    "\n",
    "    char fen[100];\n",
    "    scanf(\"%s\", fen);\n",
    "\n",
    "    /* ... some logic here ... */\n",
    "\n",
    "    printf(\"c8d6\");\n",
    "    return 0;\n",
    "}"
   ]
  },
  {
   "cell_type": "code",
   "execution_count": 2,
   "id": "c2c6f40f",
   "metadata": {
    "execution": {
     "iopub.execute_input": "2024-12-06T11:29:33.173626Z",
     "iopub.status.busy": "2024-12-06T11:29:33.173222Z",
     "iopub.status.idle": "2024-12-06T11:29:34.653228Z",
     "shell.execute_reply": "2024-12-06T11:29:34.651375Z"
    },
    "papermill": {
     "duration": 1.487386,
     "end_time": "2024-12-06T11:29:34.656617",
     "exception": false,
     "start_time": "2024-12-06T11:29:33.169231",
     "status": "completed"
    },
    "tags": []
   },
   "outputs": [],
   "source": [
    "!gcc main.c"
   ]
  },
  {
   "cell_type": "markdown",
   "id": "e0c16478",
   "metadata": {
    "papermill": {
     "duration": 0.002867,
     "end_time": "2024-12-06T11:29:34.662944",
     "exception": false,
     "start_time": "2024-12-06T11:29:34.660077",
     "status": "completed"
    },
    "tags": []
   },
   "source": [
    "2. Use `subprocess` module to run the executable from python (in the example below I show a way to pass input via stdin). Save the python source file containing the acting function as `main.py` (this is required if submitting an archive! - You can add more `.py` files though and import them in the main)."
   ]
  },
  {
   "cell_type": "code",
   "execution_count": 3,
   "id": "9e768c5a",
   "metadata": {
    "execution": {
     "iopub.execute_input": "2024-12-06T11:29:34.671539Z",
     "iopub.status.busy": "2024-12-06T11:29:34.670643Z",
     "iopub.status.idle": "2024-12-06T11:29:34.679387Z",
     "shell.execute_reply": "2024-12-06T11:29:34.678156Z"
    },
    "papermill": {
     "duration": 0.016127,
     "end_time": "2024-12-06T11:29:34.682160",
     "exception": false,
     "start_time": "2024-12-06T11:29:34.666033",
     "status": "completed"
    },
    "tags": []
   },
   "outputs": [
    {
     "name": "stdout",
     "output_type": "stream",
     "text": [
      "Writing main.py\n"
     ]
    }
   ],
   "source": [
    "%%writefile main.py\n",
    "import random\n",
    "import subprocess\n",
    "from collections import defaultdict\n",
    "\n",
    "from Chessnut import Game\n",
    "\n",
    "\n",
    "def chess_bot_with_c(obs):\n",
    "\n",
    "    input_args = [1, 2, 345, obs.board]  # whatever You want to pass to the binary\n",
    "    \n",
    "    r = subprocess.run(['/kaggle_simulations/agent/a.out'], \n",
    "                       input='\\n'.join(map(str, input_args)) + '\\n',\n",
    "                       encoding='utf-8', capture_output=True)\n",
    "    output = r.stdout.strip()\n",
    "    print(output)\n",
    "    \n",
    "    # ...\n",
    "    # some more logic maybe ...\n",
    "    \n",
    "    game = Game(obs.board)\n",
    "    moves = list(game.get_moves())\n",
    "    \n",
    "    # Greedy algorithm: choose best-valued position\n",
    "    values = defaultdict(float)\n",
    "    values.update(zip('pbnrqPBNRQ', [(1 if game.state.player == 'w' else -1) * v for v in [-1, -3, -3, -5, -9, 1, 3, 3, 5, 9]]))\n",
    "\n",
    "    best_score = -1000\n",
    "    best_move = moves[0]\n",
    "    for move in moves:\n",
    "        g = Game(obs.board)\n",
    "        g.apply_move(move)\n",
    "        if g.status == Game.CHECKMATE:\n",
    "            return move\n",
    "        score = sum(values[c] for c in str(g).split(' ')[0])\n",
    "        if score >= best_score:\n",
    "            best_score = score\n",
    "            best_move = move\n",
    "\n",
    "    return best_move"
   ]
  },
  {
   "cell_type": "markdown",
   "id": "cc1b15ac",
   "metadata": {
    "papermill": {
     "duration": 0.002705,
     "end_time": "2024-12-06T11:29:34.688213",
     "exception": false,
     "start_time": "2024-12-06T11:29:34.685508",
     "status": "completed"
    },
    "tags": []
   },
   "source": [
    "3. compress into a `.tar.gz` having the two (python source main + output binary) in the root of the dir structure - then submit the archive directly :)"
   ]
  },
  {
   "cell_type": "code",
   "execution_count": 4,
   "id": "dcf52277",
   "metadata": {
    "execution": {
     "iopub.execute_input": "2024-12-06T11:29:34.696252Z",
     "iopub.status.busy": "2024-12-06T11:29:34.695825Z",
     "iopub.status.idle": "2024-12-06T11:29:35.792865Z",
     "shell.execute_reply": "2024-12-06T11:29:35.791407Z"
    },
    "papermill": {
     "duration": 1.104954,
     "end_time": "2024-12-06T11:29:35.796042",
     "exception": false,
     "start_time": "2024-12-06T11:29:34.691088",
     "status": "completed"
    },
    "tags": []
   },
   "outputs": [
    {
     "name": "stdout",
     "output_type": "stream",
     "text": [
      "main.py\r\n",
      "a.out\r\n"
     ]
    }
   ],
   "source": [
    "!tar -czvf submission.tar.gz main.py a.out"
   ]
  },
  {
   "cell_type": "markdown",
   "id": "6c035199",
   "metadata": {
    "papermill": {
     "duration": 0.002695,
     "end_time": "2024-12-06T11:29:35.801916",
     "exception": false,
     "start_time": "2024-12-06T11:29:35.799221",
     "status": "completed"
    },
    "tags": []
   },
   "source": [
    "## Thant's it! Happy coding in C!\n",
    "## (down the inner circles of hell shall we go... 😖)\n",
    "\n",
    "please upvote if You found this useful :)"
   ]
  }
 ],
 "metadata": {
  "kaggle": {
   "accelerator": "none",
   "dataSources": [
    {
     "databundleVersionId": 9818394,
     "sourceId": 86524,
     "sourceType": "competition"
    }
   ],
   "dockerImageVersionId": 30786,
   "isGpuEnabled": false,
   "isInternetEnabled": true,
   "language": "python",
   "sourceType": "notebook"
  },
  "kernelspec": {
   "display_name": "Python 3",
   "language": "python",
   "name": "python3"
  },
  "language_info": {
   "codemirror_mode": {
    "name": "ipython",
    "version": 3
   },
   "file_extension": ".py",
   "mimetype": "text/x-python",
   "name": "python",
   "nbconvert_exporter": "python",
   "pygments_lexer": "ipython3",
   "version": "3.10.14"
  },
  "papermill": {
   "default_parameters": {},
   "duration": 6.139819,
   "end_time": "2024-12-06T11:29:36.227653",
   "environment_variables": {},
   "exception": null,
   "input_path": "__notebook__.ipynb",
   "output_path": "__notebook__.ipynb",
   "parameters": {},
   "start_time": "2024-12-06T11:29:30.087834",
   "version": "2.6.0"
  }
 },
 "nbformat": 4,
 "nbformat_minor": 5
}
